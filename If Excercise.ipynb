{
 "cells": [
  {
   "cell_type": "markdown",
   "id": "1c84e11f-1406-4219-8d17-87970fa3588b",
   "metadata": {},
   "source": [
    "# Excercise IF:\n",
    "1. Get user input using **`input (\"Enter your age: \")`**. If user is 18 or older, give feedback: __`You are old enough to drive`__. If below 18, give feedback to **`wait for the missing amount of years`**."
   ]
  },
  {
   "cell_type": "code",
   "execution_count": null,
   "id": "b4a041bf-4ee7-4c2a-96c1-69f6101cbbcd",
   "metadata": {},
   "outputs": [],
   "source": [
    "age = int(input(\"enter your age: \") )\n",
    "\n",
    "if age >= 18:\n",
    "    print (\"You are old enough to drive\")\n",
    "else:\n",
    "    years_left = 18 - age\n",
    "    print (f\"you need {years_left} more years to learn to drive.\")"
   ]
  },
  {
   "cell_type": "markdown",
   "id": "19afc526-42ee-4c32-96dc-f558e0813f47",
   "metadata": {},
   "source": [
    "2. Compare the values of my_age and your_age using __`if-else`__. Who is older (me or you)? Use **`input (\"Enter your age : \")`** to get the age as input. You can use a nested condition to print __`'year'`__ for 1 year difference in age, __`'years'`__ for bigger differences, and a custom text if **`my_age = your_age`**."
   ]
  },
  {
   "cell_type": "code",
   "execution_count": null,
   "id": "0f1938bc-4f16-4dfc-bca1-67ab99467fcd",
   "metadata": {},
   "outputs": [],
   "source": [
    "my_age = 42\n",
    "your_age = int(input(\"Enter your age: \"))\n",
    "\n",
    "if my_age > your_age:\n",
    "    diff = my_age - your_age\n",
    "    if diff == 1:\n",
    "        print(\"I am 1 year older than you.\")\n",
    "    else:\n",
    "        print(f\"I am {diff} years older than you.\")\n",
    "elif your_age > my_age:\n",
    "    diff = your_age - my_age\n",
    "    if diff == 1:\n",
    "        print(\"You are 1 year older than me.\")\n",
    "    else:\n",
    "        print(f\"You are {diff} years older than me.\")\n",
    "else:\n",
    "    print(\"We are the same age!\")\n"
   ]
  },
  {
   "cell_type": "code",
   "execution_count": null,
   "id": "707b608c-85f1-4470-b3d5-155e9d3582b6",
   "metadata": {},
   "outputs": [],
   "source": []
  }
 ],
 "metadata": {
  "kernelspec": {
   "display_name": "Python 3 (ipykernel)",
   "language": "python",
   "name": "python3"
  },
  "language_info": {
   "codemirror_mode": {
    "name": "ipython",
    "version": 3
   },
   "file_extension": ".py",
   "mimetype": "text/x-python",
   "name": "python",
   "nbconvert_exporter": "python",
   "pygments_lexer": "ipython3",
   "version": "3.13.5"
  }
 },
 "nbformat": 4,
 "nbformat_minor": 5
}

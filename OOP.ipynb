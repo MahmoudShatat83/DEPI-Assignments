{
 "cells": [
  {
   "cell_type": "code",
   "execution_count": 13,
   "id": "98b017d9-01d7-4cae-b9a6-cdaf070819a4",
   "metadata": {},
   "outputs": [],
   "source": [
    "class Person:\n",
    "    company = \"IBM\"\n",
    "    def __init__(self, name, age, dept, salary):\n",
    "        self.name = name\n",
    "        self.age = age\n",
    "        self.dept = dept\n",
    "        self.__salary = salary\n",
    "    \n",
    "    def display_info(self):\n",
    "        print (f\"Hello {self.name} with {self.age} in {Person.company} and {self.dept} dept\")\n",
    "    \n",
    "    def get_salary(self):\n",
    "        print (f\"salary is: {self.__salary}\")\n",
    "\n",
    "    def set_salary(self, new_salary):\n",
    "        self.__salary = new_salary\n",
    "        "
   ]
  },
  {
   "cell_type": "code",
   "execution_count": 14,
   "id": "76aa65ff-8cef-4f10-a8b9-8feb26ee2178",
   "metadata": {},
   "outputs": [
    {
     "name": "stdout",
     "output_type": "stream",
     "text": [
      "Hello Mahmoud with 42 in IBM and PET dept\n",
      "salary is: 20000\n",
      "Edit\n",
      "salary is: 25000\n"
     ]
    }
   ],
   "source": [
    "p1 = Person (\"Mahmoud\", 42, \"PET\", 20000)\n",
    "p1.display_info()\n",
    "p1.get_salary()\n",
    "print(\"Edit\")\n",
    "p1.set_salary(25000)\n",
    "p1.get_salary()"
   ]
  },
  {
   "cell_type": "code",
   "execution_count": null,
   "id": "a0cc4a99-6432-4741-b0c0-fba3c95c4d5e",
   "metadata": {},
   "outputs": [],
   "source": []
  },
  {
   "cell_type": "markdown",
   "id": "78f71068-92a7-41fa-8d49-a940a5086b2c",
   "metadata": {},
   "source": [
    "# Task 2"
   ]
  },
  {
   "cell_type": "code",
   "execution_count": 15,
   "id": "b3e56202-ce6f-4201-b14b-ca0cf7069996",
   "metadata": {},
   "outputs": [],
   "source": [
    "class Statistics:\n",
    "    def __init__(self, numbers):\n",
    "        self.numbers = sorted(numbers)  \n",
    "\n",
    "    def count(self):\n",
    "        return len(self.numbers)\n",
    "\n",
    "    def sum(self):\n",
    "        return sum(self.numbers)\n",
    "\n",
    "    def mean(self):\n",
    "        return self.sum() / self.count()\n",
    "\n",
    "    def median(self):\n",
    "        n = self.count()\n",
    "        mid = n // 2\n",
    "        if n % 2 == 0:\n",
    "            return (self.numbers[mid - 1] + self.numbers[mid]) / 2\n",
    "        else:\n",
    "            return self.numbers[mid]\n"
   ]
  },
  {
   "cell_type": "code",
   "execution_count": 21,
   "id": "02ab10e2-03b5-4e2c-90ab-c62ed77f1048",
   "metadata": {},
   "outputs": [
    {
     "name": "stdout",
     "output_type": "stream",
     "text": [
      "Calc1 - Count: 25  - Sum: 744  - Mean: 29.76  - Median: 29\n",
      "Calc2 - Count: 5  - Sum: 150  - Mean: 30.0  - Median: 30\n",
      "Calc3 - Count: 6  - Sum: 21  - Mean: 3.5  - Median: 3.5\n",
      "Calc4 - Count: 3  - Sum: 294  - Mean: 98.0  - Median: 98\n"
     ]
    }
   ],
   "source": [
    "ages1 = [31, 26, 34, 37, 27, 26, 32, 32, 26, 27, 27, 24,\n",
    "         32, 33, 27, 25, 26, 38, 37, 31, 34, 24, 33, 29, 26]\n",
    "\n",
    "ages2 = [10, 20, 30, 40, 50]\n",
    "ages3 = [1, 2, 3, 4, 5, 6]\n",
    "ages4 = [99, 98, 97]\n",
    "\n",
    "calc1 = Statistics(ages1)\n",
    "calc2 = Statistics(ages2)\n",
    "calc3 = Statistics(ages3)\n",
    "calc4 = Statistics(ages4)\n",
    "\n",
    "print(\"Calc1 - Count:\", calc1.count(),\" - Sum:\", calc1.sum(), \" - Mean:\", calc1.mean(), \" - Median:\", calc1.median())\n",
    "print(\"Calc2 - Count:\", calc2.count(),\" - Sum:\", calc2.sum(), \" - Mean:\", calc2.mean(), \" - Median:\", calc2.median())\n",
    "print(\"Calc3 - Count:\", calc3.count(),\" - Sum:\", calc3.sum(), \" - Mean:\", calc3.mean(), \" - Median:\", calc3.median())\n",
    "print(\"Calc4 - Count:\", calc4.count(),\" - Sum:\", calc4.sum(), \" - Mean:\", calc4.mean(), \" - Median:\", calc4.median())"
   ]
  },
  {
   "cell_type": "code",
   "execution_count": null,
   "id": "314987b7-1d31-4e9a-8d06-49028172c80d",
   "metadata": {},
   "outputs": [],
   "source": []
  },
  {
   "cell_type": "markdown",
   "id": "01f45a5f-a935-4f50-9ffb-09799d8786d1",
   "metadata": {},
   "source": [
    "# Voting System"
   ]
  },
  {
   "cell_type": "code",
   "execution_count": 45,
   "id": "afac874e-a4b1-4d54-ac4e-ec48e88bf834",
   "metadata": {},
   "outputs": [],
   "source": [
    "class VotingSystem:\n",
    "    def __init__(self):\n",
    "        self.candidates = {}  \n",
    "\n",
    "    def add_candidate(self, name):\n",
    "        if name not in self.candidates:\n",
    "            self.candidates[name] = 0\n",
    "            print(f\"Candidate '{name}' added.\")\n",
    "        else:\n",
    "            print(f\"Candidate '{name}' already exists.\")\n",
    "\n",
    "    def show_candidates(self):\n",
    "        if not self.candidates:\n",
    "            print(\"No candidates available.\")\n",
    "        else:\n",
    "            print(\"Final Candidates:\")\n",
    "            for name in self.candidates:\n",
    "                print(f\"- {name}\")\n",
    "    \n",
    "    def vote_for_candidate(self, name):\n",
    "        if name in self.candidates:\n",
    "            self.candidates[name] += 1\n",
    "            print(f\"Vote added to '{name}'.\")\n",
    "        else:\n",
    "            print(f\"Candidate '{name}' is not in the list.\")\n",
    "\n",
    "    def get_result_of_candidate(self, name):\n",
    "        if name in self.candidates:\n",
    "            print(f\"* {name} has {self.candidates[name]} vote(s).\")\n",
    "        else:\n",
    "            print(f\"* No Candidate with the name '{name}' !!!.\")\n",
    "\n",
    "    def display_winner(self):\n",
    "        if not self.candidates:\n",
    "            print(\"No candidates to evaluate.\")\n",
    "            return\n",
    "        winner = max(self.candidates, key=self.candidates.get)\n",
    "        votes = self.candidates[winner]\n",
    "        print(f\"The winner is '{winner}' with {votes} vote(s).\")"
   ]
  },
  {
   "cell_type": "code",
   "execution_count": 46,
   "id": "46aa0eec-a53b-47ba-a580-afb106c2f823",
   "metadata": {},
   "outputs": [
    {
     "name": "stdout",
     "output_type": "stream",
     "text": [
      "Candidate 'Baraa' added.\n",
      "Candidate 'Sama' added.\n",
      "Candidate 'Saif' added.\n",
      "\n",
      "Final Candidates:\n",
      "- Baraa\n",
      "- Sama\n",
      "- Saif\n",
      "\n",
      "Vote added to 'Baraa'.\n",
      "Vote added to 'Sama'.\n",
      "Vote added to 'Baraa'.\n",
      "Vote added to 'Sama'.\n",
      "Vote added to 'Baraa'.\n",
      "Candidate 'SSSS' is not in the list.\n",
      "\n",
      "* Baraa has 3 vote(s).\n",
      "* Sama has 2 vote(s).\n",
      "* No Candidate with the name 'SSSS' !!!.\n",
      "\n",
      "The winner is 'Baraa' with 3 vote(s).\n"
     ]
    }
   ],
   "source": [
    "voting = VotingSystem()\n",
    "\n",
    "voting.add_candidate(\"Baraa\")\n",
    "voting.add_candidate(\"Sama\")\n",
    "voting.add_candidate(\"Saif\")\n",
    "print()\n",
    "voting.show_candidates()\n",
    "print()\n",
    "voting.vote_for_candidate(\"Baraa\")\n",
    "voting.vote_for_candidate(\"Sama\")\n",
    "voting.vote_for_candidate(\"Baraa\")\n",
    "voting.vote_for_candidate(\"Sama\")\n",
    "voting.vote_for_candidate(\"Baraa\")\n",
    "\n",
    "voting.vote_for_candidate(\"SSSS\")\n",
    "print()\n",
    "voting.get_result_of_candidate(\"Baraa\")\n",
    "voting.get_result_of_candidate(\"Sama\")\n",
    "voting.get_result_of_candidate(\"SSSS\")\n",
    "print()\n",
    "voting.display_winner()\n"
   ]
  },
  {
   "cell_type": "code",
   "execution_count": null,
   "id": "9832828d-ad01-4675-a635-8178e5c551b5",
   "metadata": {},
   "outputs": [],
   "source": []
  }
 ],
 "metadata": {
  "kernelspec": {
   "display_name": "Python 3 (ipykernel)",
   "language": "python",
   "name": "python3"
  },
  "language_info": {
   "codemirror_mode": {
    "name": "ipython",
    "version": 3
   },
   "file_extension": ".py",
   "mimetype": "text/x-python",
   "name": "python",
   "nbconvert_exporter": "python",
   "pygments_lexer": "ipython3",
   "version": "3.13.5"
  }
 },
 "nbformat": 4,
 "nbformat_minor": 5
}

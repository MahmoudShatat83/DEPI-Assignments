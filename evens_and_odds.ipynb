{
 "cells": [
  {
   "cell_type": "code",
   "execution_count": 1,
   "id": "86526b52-cf6f-41a7-a672-64435ab91b6b",
   "metadata": {},
   "outputs": [],
   "source": [
    "def evens_and_odds(number):\n",
    "    evens = 0\n",
    "    odds = 0\n",
    "\n",
    "    for i in range(0, number + 1):  \n",
    "        if i % 2 == 0:\n",
    "            evens += 1\n",
    "        else:\n",
    "            odds += 1\n",
    "\n",
    "    print(\"Evens:\", evens)\n",
    "    print(\"Odds:\", odds)"
   ]
  },
  {
   "cell_type": "code",
   "execution_count": 2,
   "id": "25a43aeb-c41d-4ce1-9e4d-20938fde4648",
   "metadata": {},
   "outputs": [
    {
     "name": "stdout",
     "output_type": "stream",
     "text": [
      "Evens: 51\n",
      "Odds: 50\n"
     ]
    }
   ],
   "source": [
    "evens_and_odds (100)"
   ]
  },
  {
   "cell_type": "code",
   "execution_count": null,
   "id": "779f1ccd-0446-4521-931a-a1d355a50054",
   "metadata": {},
   "outputs": [],
   "source": []
  }
 ],
 "metadata": {
  "kernelspec": {
   "display_name": "Python 3 (ipykernel)",
   "language": "python",
   "name": "python3"
  },
  "language_info": {
   "codemirror_mode": {
    "name": "ipython",
    "version": 3
   },
   "file_extension": ".py",
   "mimetype": "text/x-python",
   "name": "python",
   "nbconvert_exporter": "python",
   "pygments_lexer": "ipython3",
   "version": "3.13.5"
  }
 },
 "nbformat": 4,
 "nbformat_minor": 5
}

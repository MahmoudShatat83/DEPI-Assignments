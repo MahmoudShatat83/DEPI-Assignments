{
 "cells": [
  {
   "cell_type": "markdown",
   "id": "ecae67be-7b9d-46f1-939f-422c2dfbbcee",
   "metadata": {},
   "source": [
    "# Excercise➡️For\n",
    "## 1st Excercise → 1st Level"
   ]
  },
  {
   "cell_type": "markdown",
   "id": "de8f52ed-fc61-4531-91a0-3ebd115bd0e3",
   "metadata": {},
   "source": [
    "1. Iterate through the list ['Python', 'Numpy', 'Pandas', 'Scikit', 'Pytorch'] using a __`for`__ loop and print out the items."
   ]
  },
  {
   "cell_type": "code",
   "execution_count": null,
   "id": "45ce84d0-c851-43cb-9fc7-e9e5ef641f1a",
   "metadata": {},
   "outputs": [],
   "source": [
    "technologies = ['Python', 'Numpy', 'Pandas', 'Scikit', 'Pytorch']\n",
    "\n",
    "for tech in technologies:\n",
    "    print(tech)"
   ]
  },
  {
   "cell_type": "markdown",
   "id": "5dca2c41-7ad1-4a17-b0d5-7b7341ff31da",
   "metadata": {},
   "source": [
    "2. Use __`for`__ loop to iterate from 0 to 100 and print only *even* numbers."
   ]
  },
  {
   "cell_type": "code",
   "execution_count": null,
   "id": "daa240bd-8786-4a70-8573-619f98ee84b4",
   "metadata": {},
   "outputs": [],
   "source": [
    "for i in range (0,101):\n",
    "    if i%2 == 0:\n",
    "        print(i)"
   ]
  },
  {
   "cell_type": "markdown",
   "id": "05eaa8e4-9599-4ed0-95bb-c1a86ee6809c",
   "metadata": {},
   "source": [
    " *Alternative solution*"
   ]
  },
  {
   "cell_type": "code",
   "execution_count": null,
   "id": "1b63fd3e-0601-43cb-b22f-30c632afe35a",
   "metadata": {},
   "outputs": [],
   "source": [
    "for i in range(0, 101, 2):\n",
    "    print(i)"
   ]
  },
  {
   "cell_type": "markdown",
   "id": "7082c6b6-7d43-4103-becd-2c13f8ba3a81",
   "metadata": {},
   "source": [
    "3. Use __`for`__ loop to iterate from 0 to 100 and print only *odd* numbers."
   ]
  },
  {
   "cell_type": "code",
   "execution_count": null,
   "id": "0642ca20-72be-4e03-90dc-c7fc5b88ab36",
   "metadata": {},
   "outputs": [],
   "source": [
    "for i in range(0, 101):\n",
    "    if i % 2 != 0:\n",
    "        print(i)"
   ]
  },
  {
   "cell_type": "markdown",
   "id": "4b0fe589-41e9-4dc9-8b4e-e54e44b0338f",
   "metadata": {},
   "source": [
    " *Alternative solution*"
   ]
  },
  {
   "cell_type": "code",
   "execution_count": null,
   "id": "087d90c4-8426-4b50-ba6a-6dbf0733d348",
   "metadata": {},
   "outputs": [],
   "source": [
    "for i in range(1, 101, 2):\n",
    "    print(i)"
   ]
  },
  {
   "cell_type": "markdown",
   "id": "cc0ec6f9-3260-4882-9872-266a6f1d4168",
   "metadata": {},
   "source": [
    "## 2nd Excercise → 2nd Level"
   ]
  },
  {
   "cell_type": "markdown",
   "id": "1eba2283-e7d8-49fc-8cbf-227b7a4143b9",
   "metadata": {},
   "source": [
    "1. Use __`for`__ loop to iterate from 0 to 100 and print the sum of all numbers.\n",
    "   The sum of all numbers is _`5050`_."
   ]
  },
  {
   "cell_type": "code",
   "execution_count": null,
   "id": "5bb7d575-ca35-43d4-83bc-3a8df2a8c2a7",
   "metadata": {},
   "outputs": [],
   "source": [
    "total = 0\n",
    "for i in range(0, 101):\n",
    "    total += i\n",
    "print(\"The sum of all numbers is\", total)"
   ]
  },
  {
   "cell_type": "markdown",
   "id": "61fb4791-b391-459a-8c8d-a5455aee72f6",
   "metadata": {},
   "source": [
    "2. Use __`for`__ loop to iterate from 0 to 100 and print the sum of all evens and the sum of all odds.\n",
    "   The sum of all evens is _`2550`_. And the sum of all odds is _`2500`_."
   ]
  },
  {
   "cell_type": "code",
   "execution_count": null,
   "id": "bf9a5dfa-29cf-4a8f-a2ca-7fe810aacd6c",
   "metadata": {},
   "outputs": [],
   "source": [
    "sum_even = 0\n",
    "sum_odd = 0\n",
    "for i in range(0, 101):\n",
    "    if i % 2 == 0:\n",
    "        sum_even += i\n",
    "    else:\n",
    "        sum_odd += i\n",
    "print(\"The sum of all evens is\", sum_even)\n",
    "print(\"The sum of all odds is\", sum_odd)"
   ]
  },
  {
   "cell_type": "code",
   "execution_count": null,
   "id": "54f18a21-1d75-48c4-87bb-a88414d471ed",
   "metadata": {},
   "outputs": [],
   "source": []
  }
 ],
 "metadata": {
  "kernelspec": {
   "display_name": "Python 3 (ipykernel)",
   "language": "python",
   "name": "python3"
  },
  "language_info": {
   "codemirror_mode": {
    "name": "ipython",
    "version": 3
   },
   "file_extension": ".py",
   "mimetype": "text/x-python",
   "name": "python",
   "nbconvert_exporter": "python",
   "pygments_lexer": "ipython3",
   "version": "3.13.5"
  }
 },
 "nbformat": 4,
 "nbformat_minor": 5
}

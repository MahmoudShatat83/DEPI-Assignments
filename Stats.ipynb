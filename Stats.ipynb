{
 "cells": [
  {
   "cell_type": "markdown",
   "id": "8f0daf41-e54b-4d10-850c-0cfbf73146bc",
   "metadata": {},
   "source": [
    "# Calculate_Mean"
   ]
  },
  {
   "cell_type": "code",
   "execution_count": 1,
   "id": "b9f75fe8-9ed6-4a1c-b43d-4c13075b5a2e",
   "metadata": {},
   "outputs": [],
   "source": [
    "def calculate_mean(numbers):\n",
    "    if not numbers:\n",
    "        return None\n",
    "    return sum(numbers) / len(numbers)"
   ]
  },
  {
   "cell_type": "code",
   "execution_count": 3,
   "id": "9931672d-165d-41e6-812f-8632ab463b83",
   "metadata": {},
   "outputs": [
    {
     "data": {
      "text/plain": [
       "3.0"
      ]
     },
     "execution_count": 3,
     "metadata": {},
     "output_type": "execute_result"
    }
   ],
   "source": [
    "data =  [4, 1, 2, 2, 3, 5, 4]\n",
    "calculate_mean(data)"
   ]
  },
  {
   "cell_type": "markdown",
   "id": "50ee2ad5-2a46-474a-b49a-a4709e71dff6",
   "metadata": {},
   "source": [
    "# Calculate_Median"
   ]
  },
  {
   "cell_type": "code",
   "execution_count": 4,
   "id": "22146cfa-b9be-456f-a8a4-655a58408075",
   "metadata": {},
   "outputs": [],
   "source": [
    "def calculate_median(numbers):\n",
    "    if not numbers:\n",
    "        return None\n",
    "\n",
    "    sorted_numbers = sorted(numbers)\n",
    "    n = len(sorted_numbers)\n",
    "    middle = n // 2\n",
    "\n",
    "    if n % 2 == 0:\n",
    "        return (sorted_numbers[middle - 1] + sorted_numbers[middle]) / 2\n",
    "    else:\n",
    "        \n",
    "        return sorted_numbers[middle]"
   ]
  },
  {
   "cell_type": "code",
   "execution_count": 5,
   "id": "c53e505c-c227-4fee-b50f-6c7a8731cfaf",
   "metadata": {},
   "outputs": [
    {
     "data": {
      "text/plain": [
       "3"
      ]
     },
     "execution_count": 5,
     "metadata": {},
     "output_type": "execute_result"
    }
   ],
   "source": [
    "calculate_median(data)"
   ]
  },
  {
   "cell_type": "code",
   "execution_count": 6,
   "id": "332ac122-212a-4702-90f9-41bce4ae99ea",
   "metadata": {},
   "outputs": [
    {
     "data": {
      "text/plain": [
       "5"
      ]
     },
     "execution_count": 6,
     "metadata": {},
     "output_type": "execute_result"
    }
   ],
   "source": [
    "data = [5,60,3,8,4,7,1]\n",
    "calculate_median(data)"
   ]
  },
  {
   "cell_type": "code",
   "execution_count": 9,
   "id": "bdbd051a-fd69-476f-b277-855ad504535e",
   "metadata": {},
   "outputs": [
    {
     "data": {
      "text/plain": [
       "6.5"
      ]
     },
     "execution_count": 9,
     "metadata": {},
     "output_type": "execute_result"
    }
   ],
   "source": [
    "data = [6,60,3,8,4,12,7,1]\n",
    "calculate_median(data)"
   ]
  },
  {
   "cell_type": "markdown",
   "id": "92c0fb20-a8df-42f9-b2ab-cc237e00b948",
   "metadata": {},
   "source": [
    "# Calculate_Mode"
   ]
  },
  {
   "cell_type": "code",
   "execution_count": 15,
   "id": "62d1ab3e-c0ce-4dae-aa93-5edd730a5429",
   "metadata": {},
   "outputs": [],
   "source": [
    "from collections import Counter\n",
    "\n",
    "def calculate_mode(numbers):\n",
    "    \n",
    "    counter = Counter(numbers)\n",
    "    \n",
    "    max_count = max(counter.values())\n",
    "\n",
    "    modes = [num for num, count in counter.items() if count == max_count]\n",
    "\n",
    "    if len(modes) == 1:\n",
    "        return modes[0]  # One mode\n",
    "    else:\n",
    "        return modes     # Multiple modes (list)"
   ]
  },
  {
   "cell_type": "code",
   "execution_count": 18,
   "id": "dde5f18a-76aa-4d62-ba54-7cff68d968f8",
   "metadata": {},
   "outputs": [
    {
     "data": {
      "text/plain": [
       "12"
      ]
     },
     "execution_count": 18,
     "metadata": {},
     "output_type": "execute_result"
    }
   ],
   "source": [
    "data = [6,60,3,12,4,12,12,1]\n",
    "calculate_mode(data)"
   ]
  },
  {
   "cell_type": "code",
   "execution_count": null,
   "id": "52320d0f-7788-496d-ad67-70a33ba36e9c",
   "metadata": {},
   "outputs": [],
   "source": []
  }
 ],
 "metadata": {
  "kernelspec": {
   "display_name": "Python 3 (ipykernel)",
   "language": "python",
   "name": "python3"
  },
  "language_info": {
   "codemirror_mode": {
    "name": "ipython",
    "version": 3
   },
   "file_extension": ".py",
   "mimetype": "text/x-python",
   "name": "python",
   "nbconvert_exporter": "python",
   "pygments_lexer": "ipython3",
   "version": "3.13.5"
  }
 },
 "nbformat": 4,
 "nbformat_minor": 5
}

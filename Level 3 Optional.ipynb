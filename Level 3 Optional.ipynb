{
 "cells": [
  {
   "cell_type": "markdown",
   "id": "bce110cd-ebac-4f40-86fe-c955d63d46a2",
   "metadata": {},
   "source": [
    "### Exercises ➞ <span class='label label-default'>Level 3</span>\n",
    "##### To access countries_details_data.py file\n",
    "##### * in first line in code write:\n",
    "##### * from countries import countries\n",
    "##### * from countries_details_dat import countries_data"
   ]
  },
  {
   "cell_type": "markdown",
   "id": "f8d534ad-cf12-40f5-983b-ae078678b690",
   "metadata": {},
   "source": [
    "1. Go to the data folder and use the **[countries.py]()** file. Loop through the countries and extract all the countries containing the word **`land`**."
   ]
  },
  {
   "cell_type": "code",
   "execution_count": 6,
   "id": "331d7fb5-cce5-45e5-b301-6f41f7099774",
   "metadata": {},
   "outputs": [
    {
     "name": "stdout",
     "output_type": "stream",
     "text": [
      "Countries containing 'land':\n",
      "Finland\n",
      "Iceland\n",
      "Ireland\n",
      "Marshall Islands\n",
      "Netherlands\n",
      "New Zealand\n",
      "Poland\n",
      "Solomon Islands\n",
      "Swaziland\n",
      "Switzerland\n",
      "Thailand\n"
     ]
    }
   ],
   "source": [
    "# Import the data\n",
    "from countries import countries\n",
    "\n",
    "\n",
    "# Create a new empty list\n",
    "land_countries = []\n",
    "\n",
    "# Loop through the list and extract countries containing \"land\"\n",
    "for country in countries:\n",
    "    if 'land' in country.lower():  # Case-insensitive match\n",
    "        land_countries.append(country) # To add countries in the created list\n",
    "\n",
    "# Print the result\n",
    "print(\"Countries containing 'land':\")\n",
    "for c in land_countries:\n",
    "    print(c)\n"
   ]
  },
  {
   "cell_type": "markdown",
   "id": "658bc246-c23d-45aa-afb4-d6bd3989a80c",
   "metadata": {},
   "source": [
    "2. Go to the data folder and use the **[countries_details_data.py]()** file.\n",
    "   1. What are the total number of languages in the data \\\\ 112\n",
    "   2. Find the ten most spoken languages from the data \\\\ English , French , Arabic\n",
    "   3. Find the 10 most populated countries in the world \\\\ China, India, US"
   ]
  },
  {
   "cell_type": "code",
   "execution_count": 10,
   "id": "b1ee91d3-bb99-4122-80db-e211acf9fe0f",
   "metadata": {},
   "outputs": [
    {
     "name": "stdout",
     "output_type": "stream",
     "text": [
      "A. Total number of unique languages: 112\n"
     ]
    }
   ],
   "source": [
    "# Import the data\n",
    "from countries_details_dat import countries_data\n",
    "\n",
    "# 1. Total number of unique languages\n",
    "all_languages = []  # create a new empty list\n",
    "\n",
    "for country in countries_data:   # access the values\n",
    "    all_languages.extend(country.get(\"languages\", []))   # get all the languages and add it in the created list\n",
    " \n",
    "unique_languages = set(all_languages) # set: to remove duplicates\n",
    "print(\"A. Total number of unique languages:\", len(unique_languages))  # len: to count"
   ]
  },
  {
   "cell_type": "code",
   "execution_count": 17,
   "id": "362988a5-dbc3-45f3-ab91-7d1d54b11b24",
   "metadata": {},
   "outputs": [
    {
     "name": "stdout",
     "output_type": "stream",
     "text": [
      "B. Top 10 most spoken languages:\n",
      "\n",
      "English: spoken in 91 countries\n",
      "French: spoken in 45 countries\n",
      "Arabic: spoken in 25 countries\n",
      "Spanish: spoken in 24 countries\n",
      "Portuguese: spoken in 9 countries\n",
      "Russian: spoken in 9 countries\n",
      "Dutch: spoken in 8 countries\n",
      "German: spoken in 7 countries\n",
      "Chinese: spoken in 5 countries\n",
      "Serbian: spoken in 4 countries\n"
     ]
    }
   ],
   "source": [
    "from collections import Counter\n",
    "from countries_details_dat import countries_data\n",
    "\n",
    "# Create counter for languages\n",
    "language_counter = Counter()\n",
    "\n",
    "# Loop through countries and count languages\n",
    "for country in countries_data:   # loops through each country's info\n",
    "    languages = country.get(\"languages\", []) # gets the list of languages\n",
    "    for lang in languages: # loops through each language spoken in that country\n",
    "        language_counter[lang] += 1\n",
    "\n",
    "# Get the 10 most common languages\n",
    "most_spoken_languages = language_counter.most_common(10)\n",
    "\n",
    "\n",
    "print(\"B. Top 10 most spoken languages:\"\"\\n\")\n",
    "\n",
    "for language, count in most_spoken_languages:\n",
    "    print(f\"{language}: spoken in {count} countries\")"
   ]
  },
  {
   "cell_type": "code",
   "execution_count": 19,
   "id": "2fd3361a-590c-46a2-b510-491df5ac5660",
   "metadata": {},
   "outputs": [
    {
     "name": "stdout",
     "output_type": "stream",
     "text": [
      "C. Top 10 most populated countries:\n",
      "\n",
      "China: 1,377,422,166\n",
      "India: 1,295,210,000\n",
      "United States of America: 323,947,000\n",
      "Indonesia: 258,705,000\n",
      "Brazil: 206,135,893\n",
      "Pakistan: 194,125,062\n",
      "Nigeria: 186,988,000\n",
      "Bangladesh: 161,006,790\n",
      "Russian Federation: 146,599,183\n",
      "Japan: 126,960,000\n"
     ]
    }
   ],
   "source": [
    "from countries_details_dat import countries_data\n",
    "\n",
    "# Create a list of (country name, population) tuples\n",
    "population_list = []\n",
    "\n",
    "for country in countries_data:\n",
    "    name = country.get(\"name\")\n",
    "    population = country.get(\"population\", 0)  \n",
    "    population_list.append((name, population))\n",
    "\n",
    "# Sort the list by population in descending order\n",
    "population_list.sort(key=lambda x: x[1], reverse=True)  # x[1]: Sorts by the second value in each tuple, reverse=True: sort from largest to smallest\n",
    "\n",
    "\n",
    "print(\"C. Top 10 most populated countries:\"\"\\n\")\n",
    "for name, pop in population_list[:10]:\n",
    "    print(f\"{name}: {pop:,}\")  "
   ]
  },
  {
   "cell_type": "markdown",
   "id": "59b98963-0293-4310-b2b0-702d37600576",
   "metadata": {},
   "source": [
    "3. Print the following pattern using loops (bones)\n",
    "\n",
    "```py\n",
    "   0 x 0 = 0\n",
    "   1 x 1 = 1\n",
    "   2 x 2 = 4\n",
    "   3 x 3 = 9\n",
    "   4 x 4 = 16\n",
    "   5 x 5 = 25\n",
    "   6 x 6 = 36\n",
    "   7 x 7 = 49\n",
    "   8 x 8 = 64\n",
    "   9 x 9 = 81\n",
    "   10 x 10 = 100"
   ]
  },
  {
   "cell_type": "code",
   "execution_count": 3,
   "id": "fc2e7636-c71e-48b4-89eb-7a7749e432bf",
   "metadata": {},
   "outputs": [
    {
     "name": "stdout",
     "output_type": "stream",
     "text": [
      "0 x 0 = 0\n",
      "1 x 1 = 1\n",
      "2 x 2 = 4\n",
      "3 x 3 = 9\n",
      "4 x 4 = 16\n",
      "5 x 5 = 25\n",
      "6 x 6 = 36\n",
      "7 x 7 = 49\n",
      "8 x 8 = 64\n",
      "9 x 9 = 81\n",
      "10 x 10 = 100\n"
     ]
    }
   ],
   "source": [
    "for i in range(0, 11):\n",
    "    print(f\"{i} x {i} = {i * i}\")"
   ]
  },
  {
   "cell_type": "code",
   "execution_count": null,
   "id": "4bc54bae-3af5-4af7-b4d9-96bb04efad85",
   "metadata": {},
   "outputs": [],
   "source": []
  }
 ],
 "metadata": {
  "kernelspec": {
   "display_name": "Python 3 (ipykernel)",
   "language": "python",
   "name": "python3"
  },
  "language_info": {
   "codemirror_mode": {
    "name": "ipython",
    "version": 3
   },
   "file_extension": ".py",
   "mimetype": "text/x-python",
   "name": "python",
   "nbconvert_exporter": "python",
   "pygments_lexer": "ipython3",
   "version": "3.13.5"
  }
 },
 "nbformat": 4,
 "nbformat_minor": 5
}

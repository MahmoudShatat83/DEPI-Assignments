{
 "cells": [
  {
   "cell_type": "markdown",
   "id": "c621a689-2df8-49ed-839a-3e73f071c48f",
   "metadata": {},
   "source": [
    "# Python Data Types"
   ]
  },
  {
   "cell_type": "markdown",
   "id": "cdfd0b00-bbbb-4fed-9eb0-ebc55d47e133",
   "metadata": {},
   "source": [
    "1. Given the list my_list =  ['apple', 'banana', 'cherry', 'date'], perform the following:\n",
    "   * Access the first element in the list.\n",
    "   * Remove the last element from the list.\n",
    "   * Insert the string `'grape'` at index 2.\n",
    "   * Print the modified list."
   ]
  },
  {
   "cell_type": "code",
   "execution_count": 10,
   "id": "feb8f980-eeb7-4908-a04c-5537b092875b",
   "metadata": {},
   "outputs": [
    {
     "name": "stdout",
     "output_type": "stream",
     "text": [
      "* First element: apple\n",
      "* Modified list: ['apple', 'banana', 'grape', 'cherry']\n"
     ]
    }
   ],
   "source": [
    "my_list = ['apple', 'banana', 'cherry', 'date']\n",
    "\n",
    "# Access the first element\n",
    "first_element = my_list[0]\n",
    "print(\"* First element:\", first_element)\n",
    "\n",
    "# Remove the last element\n",
    "my_list.pop()\n",
    "\n",
    "# Insert 'grape' at index 2\n",
    "my_list.insert(2, 'grape')\n",
    "\n",
    "# Print the modified list\n",
    "print(\"* Modified list:\", my_list)"
   ]
  },
  {
   "cell_type": "markdown",
   "id": "1f50d8ae-2903-4b5d-b9c3-437d7ecb7f38",
   "metadata": {},
   "source": [
    "2. Create a tuple containing the numbers 1, 2, 3, 4, 5. Then:\n",
    "    * Access the third element of the tuple.\n",
    "    * Try to modify the second element of the tuple. What happened?\n",
    "    * Print the tuple."
   ]
  },
  {
   "cell_type": "code",
   "execution_count": 8,
   "id": "a31e9956-b2fb-4c39-8bbf-4c17ded416df",
   "metadata": {},
   "outputs": [
    {
     "name": "stdout",
     "output_type": "stream",
     "text": [
      "1. Third element: 3\n",
      "2. Error: 'tuple' object does not support item assignment\n",
      "3. Tuple remains unchanged: (1, 2, 3, 4, 5)\n"
     ]
    }
   ],
   "source": [
    "# Create the tuple\n",
    "my_tuple = (1, 2, 3, 4, 5)\n",
    "\n",
    "# Access the third element (index 2)\n",
    "print(\"1. Third element:\", my_tuple[2])\n",
    "\n",
    "# Try to modify the second element (index 1)\n",
    "try:\n",
    "    my_tuple[1] = 10\n",
    "except TypeError as e:\n",
    "    print(\"2. Error:\", e)\n",
    "\n",
    "# Print the tuple\n",
    "print(\"3. Tuple remains unchanged:\", my_tuple)\n"
   ]
  },
  {
   "cell_type": "markdown",
   "id": "7829a6bc-6b7b-4509-a887-8784ef36ef66",
   "metadata": {},
   "source": [
    "3. Given the dictionary `my_dict = {'brand': 'Toyota', 'model': 'Corolla', 'year': 2019}`, perform the following:\n",
    "   * Access the value associated with the key `'model'`.\n",
    "   * Remove the key `'year'` from the dictionary.\n",
    "   * Add a new key `'color'` with the value `'blue'`.\n",
    "   * Print the modified dictionary."
   ]
  },
  {
   "cell_type": "code",
   "execution_count": 9,
   "id": "4de84504-1dc5-46ee-8ee3-92a567a461f0",
   "metadata": {},
   "outputs": [
    {
     "name": "stdout",
     "output_type": "stream",
     "text": [
      "* Model: Corolla\n",
      "* Modified dictionary: {'brand': 'Toyota', 'model': 'Corolla', 'color': 'blue'}\n"
     ]
    }
   ],
   "source": [
    "# Initial dictionary\n",
    "my_dict = {'brand': 'Toyota', 'model': 'Corolla', 'year': 2019}\n",
    "\n",
    "# Access the value associated with the key 'model'\n",
    "print(\"* Model:\", my_dict['model'])\n",
    "\n",
    "# Remove the key 'year'\n",
    "my_dict.pop('year')\n",
    "\n",
    "# Add a new key 'color' with the value 'blue'\n",
    "my_dict['color'] = 'blue'\n",
    "\n",
    "# Print the modified dictionary\n",
    "print(\"* Modified dictionary:\", my_dict)\n"
   ]
  },
  {
   "cell_type": "code",
   "execution_count": null,
   "id": "c373cdcc-d2aa-4e09-8822-4cf802ae38a5",
   "metadata": {},
   "outputs": [],
   "source": []
  }
 ],
 "metadata": {
  "kernelspec": {
   "display_name": "Python 3 (ipykernel)",
   "language": "python",
   "name": "python3"
  },
  "language_info": {
   "codemirror_mode": {
    "name": "ipython",
    "version": 3
   },
   "file_extension": ".py",
   "mimetype": "text/x-python",
   "name": "python",
   "nbconvert_exporter": "python",
   "pygments_lexer": "ipython3",
   "version": "3.13.5"
  }
 },
 "nbformat": 4,
 "nbformat_minor": 5
}
